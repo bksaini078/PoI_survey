{
 "cells": [
  {
   "cell_type": "markdown",
   "metadata": {},
   "source": [
    "# Import Required Libraries\n",
    "Import the necessary libraries, including pandas and matplotlib."
   ]
  },
  {
   "cell_type": "code",
   "execution_count": 1,
   "metadata": {},
   "outputs": [],
   "source": [
    "# Import Required Libraries\n",
    "import pandas as pd\n",
    "import matplotlib.pyplot as plt\n",
    "\n",
    "# Enable inline plotting for matplotlib\n",
    "%matplotlib inline"
   ]
  },
  {
   "cell_type": "markdown",
   "metadata": {},
   "source": [
    "# Load Survey Data\n",
    "Load the survey response data from the files in the survey_results folder."
   ]
  },
  {
   "cell_type": "code",
   "execution_count": 4,
   "metadata": {},
   "outputs": [
    {
     "data": {
      "text/plain": [
       "{}"
      ]
     },
     "execution_count": 4,
     "metadata": {},
     "output_type": "execute_result"
    }
   ],
   "source": [
    "# Load Survey Data\n",
    "import os\n",
    "\n",
    "# Define the folder path\n",
    "folder_path = 'survey_results'\n",
    "\n",
    "# List all files in the folder\n",
    "files = os.listdir(folder_path)\n",
    "\n",
    "# Load all CSV files into a dictionary of DataFrames\n",
    "data_frames = {}\n",
    "for file in files:\n",
    "    if file.endswith('.csv'):\n",
    "        file_path = os.path.join(folder_path, file)\n",
    "        data_frames[file] = pd.read_csv(file_path)\n",
    "\n",
    "# Display the keys of the dictionary to show loaded files\n",
    "data_frames"
   ]
  },
  {
   "cell_type": "markdown",
   "metadata": {},
   "source": [
    "# Inspect Data\n",
    "Inspect the first few rows of the data to understand its structure and contents."
   ]
  },
  {
   "cell_type": "code",
   "execution_count": null,
   "metadata": {},
   "outputs": [],
   "source": [
    "# Inspect Data\n",
    "\n",
    "# Display the first few rows of each DataFrame to understand its structure and contents\n",
    "for file_name, df in data_frames.items():\n",
    "    print(f\"First few rows of {file_name}:\")\n",
    "    display(df.head())"
   ]
  },
  {
   "cell_type": "markdown",
   "metadata": {},
   "source": [
    "# Clean Data\n",
    "Clean the data by handling missing values and correcting data types if necessary."
   ]
  },
  {
   "cell_type": "code",
   "execution_count": null,
   "metadata": {},
   "outputs": [],
   "source": [
    "# Clean Data\n",
    "\n",
    "# Handle missing values and correct data types if necessary\n",
    "for file_name, df in data_frames.items():\n",
    "    # Drop rows with any missing values\n",
    "    df.dropna(inplace=True)\n",
    "    \n",
    "    # Convert columns to appropriate data types if necessary\n",
    "    # Example: Convert 'age' column to integer\n",
    "    if 'age' in df.columns:\n",
    "        df['age'] = df['age'].astype(int)\n",
    "    \n",
    "    # Update the DataFrame in the dictionary\n",
    "    data_frames[file_name] = df\n",
    "\n",
    "# Display the cleaned data\n",
    "for file_name, df in data_frames.items():\n",
    "    print(f\"Cleaned data for {file_name}:\")\n",
    "    display(df.head())"
   ]
  },
  {
   "cell_type": "markdown",
   "metadata": {},
   "source": [
    "# Analyze Survey Responses\n",
    "Perform analysis on the survey responses, such as calculating summary statistics and identifying trends."
   ]
  },
  {
   "cell_type": "code",
   "execution_count": null,
   "metadata": {},
   "outputs": [],
   "source": [
    "# Analyze Survey Responses\n",
    "\n",
    "# Calculate summary statistics for each DataFrame\n",
    "summary_statistics = {}\n",
    "for file_name, df in data_frames.items():\n",
    "    summary_statistics[file_name] = df.describe()\n",
    "\n",
    "# Display summary statistics\n",
    "for file_name, stats in summary_statistics.items():\n",
    "    print(f\"Summary statistics for {file_name}:\")\n",
    "    display(stats)\n",
    "\n",
    "# Identify trends in the data\n",
    "# Example: Plot the distribution of ages if 'age' column exists\n",
    "for file_name, df in data_frames.items():\n",
    "    if 'age' in df.columns:\n",
    "        plt.figure(figsize=(10, 6))\n",
    "        plt.hist(df['age'], bins=20, edgecolor='k', alpha=0.7)\n",
    "        plt.title(f'Age Distribution in {file_name}')\n",
    "        plt.xlabel('Age')\n",
    "        plt.ylabel('Frequency')\n",
    "        plt.grid(True)\n",
    "        plt.show()\n",
    "\n",
    "# Example: Plot the count of responses for each unique value in a specific column\n",
    "# Assuming there is a 'response' column in the survey data\n",
    "for file_name, df in data_frames.items():\n",
    "    if 'response' in df.columns:\n",
    "        plt.figure(figsize=(10, 6))\n",
    "        df['response'].value_counts().plot(kind='bar', edgecolor='k', alpha=0.7)\n",
    "        plt.title(f'Response Counts in {file_name}')\n",
    "        plt.xlabel('Response')\n",
    "        plt.ylabel('Count')\n",
    "        plt.grid(True)\n",
    "        plt.show()"
   ]
  },
  {
   "cell_type": "markdown",
   "metadata": {},
   "source": [
    "# Visualize Results\n",
    "Create visualizations to represent the survey results using matplotlib or seaborn."
   ]
  },
  {
   "cell_type": "code",
   "execution_count": null,
   "metadata": {},
   "outputs": [],
   "source": [
    "# Visualize Results\n",
    "\n",
    "import seaborn as sns\n",
    "\n",
    "# Example: Create a box plot for age distribution if 'age' column exists\n",
    "for file_name, df in data_frames.items():\n",
    "    if 'age' in df.columns:\n",
    "        plt.figure(figsize=(10, 6))\n",
    "        sns.boxplot(x=df['age'])\n",
    "        plt.title(f'Age Distribution Box Plot in {file_name}')\n",
    "        plt.xlabel('Age')\n",
    "        plt.grid(True)\n",
    "        plt.show()\n",
    "\n",
    "# Example: Create a bar plot for the count of responses for each unique value in a specific column\n",
    "# Assuming there is a 'response' column in the survey data\n",
    "for file_name, df in data_frames.items():\n",
    "    if 'response' in df.columns:\n",
    "        plt.figure(figsize=(10, 6))\n",
    "        sns.countplot(x=df['response'], order=df['response'].value_counts().index)\n",
    "        plt.title(f'Response Counts in {file_name}')\n",
    "        plt.xlabel('Response')\n",
    "        plt.ylabel('Count')\n",
    "        plt.grid(True)\n",
    "        plt.show()\n",
    "\n",
    "# Example: Create a heatmap for correlation matrix if there are numerical columns\n",
    "for file_name, df in data_frames.items():\n",
    "    numerical_cols = df.select_dtypes(include=['int64', 'float64']).columns\n",
    "    if len(numerical_cols) > 1:\n",
    "        plt.figure(figsize=(12, 8))\n",
    "        correlation_matrix = df[numerical_cols].corr()\n",
    "        sns.heatmap(correlation_matrix, annot=True, cmap='coolwarm', linewidths=0.5)\n",
    "        plt.title(f'Correlation Matrix Heatmap in {file_name}')\n",
    "        plt.show()"
   ]
  }
 ],
 "metadata": {
  "kernelspec": {
   "display_name": "venv",
   "language": "python",
   "name": "python3"
  },
  "language_info": {
   "codemirror_mode": {
    "name": "ipython",
    "version": 3
   },
   "file_extension": ".py",
   "mimetype": "text/x-python",
   "name": "python",
   "nbconvert_exporter": "python",
   "pygments_lexer": "ipython3",
   "version": "3.13.1"
  }
 },
 "nbformat": 4,
 "nbformat_minor": 2
}
